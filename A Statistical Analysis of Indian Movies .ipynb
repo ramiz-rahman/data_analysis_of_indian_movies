{
 "cells": [
  {
   "cell_type": "markdown",
   "metadata": {},
   "source": [
    "# A Statistical Analysis of Indian Movies\n",
    "\n",
    "### Questions worth asking \n",
    "\n",
    " - Basic Exploration\n",
    "    - Average rating of movies\n",
    "    - Average gross per movie\n",
    "    - Most popular genre\n",
    "    - Number of Unique Stars\n",
    "    - Number of unique directors \n",
    "     \n",
    "     \n",
    " - Factors affecting movie performance \n",
    "    - Is there any realtionship between gross and genre \n",
    "    - Is there any realtionship between rating and genre \n",
    "    - Is there any relationship between rating and gross \n",
    "     \n",
    "     \n",
    " - Can we learn something deeper about directors \n",
    "    - How many movies were directed by each director\n",
    "    - Do most directors stick to the same genres \n",
    "    - What are the popular genres for inexperienced directors\n",
    "     \n",
    "     \n",
    " - Can we learn something deeper about stars\n",
    "      - Who are the highest grossing stars \n",
    "      - Who are the best rated stars "
   ]
  },
  {
   "cell_type": "code",
   "execution_count": 1,
   "metadata": {
    "collapsed": true
   },
   "outputs": [],
   "source": [
    "# Setting up the environment \n",
    "\n",
    "import numpy as np\n",
    "import pandas as pd\n",
    "import matplotlib as mpl\n",
    "import matplotlib.pyplot as plt\n",
    "# In a notebook environment, display the plots inline\n",
    "%matplotlib inline\n"
   ]
  },
  {
   "cell_type": "code",
   "execution_count": 2,
   "metadata": {
    "collapsed": true
   },
   "outputs": [],
   "source": [
    "plt.style.use('fivethirtyeight')\n",
    "\n",
    "# Set some parameters to apply to all plots. These can be overridden\n",
    "# in each plot if desired\n",
    "# Plot size to 14\" x 7\"\n",
    "mpl.rc('figure', figsize = (12, 6))\n",
    "# Font size to 14\n",
    "mpl.rc('font', size = 14)\n",
    "# Do not display top and right frame lines\n",
    "#mpl.rc('axes.spines', top = False, right = False)\n",
    "# Remove grid lines\n",
    "#mpl.rc('axes', grid = False)\n",
    "# Set backgound color to white\n",
    "#mpl.rc('axes', facecolor = 'white')\n"
   ]
  },
  {
   "cell_type": "code",
   "execution_count": 3,
   "metadata": {},
   "outputs": [
    {
     "data": {
      "text/html": [
       "<div>\n",
       "<style>\n",
       "    .dataframe thead tr:only-child th {\n",
       "        text-align: right;\n",
       "    }\n",
       "\n",
       "    .dataframe thead th {\n",
       "        text-align: left;\n",
       "    }\n",
       "\n",
       "    .dataframe tbody tr th {\n",
       "        vertical-align: top;\n",
       "    }\n",
       "</style>\n",
       "<table border=\"1\" class=\"dataframe\">\n",
       "  <thead>\n",
       "    <tr style=\"text-align: right;\">\n",
       "      <th></th>\n",
       "      <th>Rating</th>\n",
       "      <th>Votes</th>\n",
       "      <th>Description</th>\n",
       "      <th>Title</th>\n",
       "      <th>Gross</th>\n",
       "      <th>Director</th>\n",
       "      <th>Release</th>\n",
       "      <th>Stars</th>\n",
       "      <th>Genre</th>\n",
       "      <th>Gross (India)</th>\n",
       "    </tr>\n",
       "  </thead>\n",
       "  <tbody>\n",
       "    <tr>\n",
       "      <th>0</th>\n",
       "      <td>8.7</td>\n",
       "      <td>59,702</td>\n",
       "      <td>Biopic of Mahavir Singh Phogat, who taught wre...</td>\n",
       "      <td>Dangal</td>\n",
       "      <td>11,151,900</td>\n",
       "      <td>Nitesh Tiwari</td>\n",
       "      <td>21-Dec-16</td>\n",
       "      <td>Aamir Khan,Sakshi Tanwar,Fatima Sana Shaikh</td>\n",
       "      <td>Action,Biography,Drama,Sport</td>\n",
       "      <td>387.39</td>\n",
       "    </tr>\n",
       "    <tr>\n",
       "      <th>1</th>\n",
       "      <td>8.2</td>\n",
       "      <td>106,800</td>\n",
       "      <td>P. K. is a comedy of ideas about a stranger in...</td>\n",
       "      <td>PK</td>\n",
       "      <td>10,572,800</td>\n",
       "      <td>Rajkumar Hirani</td>\n",
       "      <td>19-Dec-14</td>\n",
       "      <td>Aamir Khan,Anushka Sharma,Sanjay Dutt</td>\n",
       "      <td>Comedy,Drama,Fantasy,Romance,Sci-Fi</td>\n",
       "      <td>339.50</td>\n",
       "    </tr>\n",
       "    <tr>\n",
       "      <th>2</th>\n",
       "      <td>8.1</td>\n",
       "      <td>51,638</td>\n",
       "      <td>A little mute girl from a Pakistan village get...</td>\n",
       "      <td>Bajrangi Bhaijaan</td>\n",
       "      <td>7,655,452</td>\n",
       "      <td>Kabir Khan</td>\n",
       "      <td>17-Jul-15</td>\n",
       "      <td>Salman Khan,Kareena Kapoor Khan,Nawazuddin Sid...</td>\n",
       "      <td>Action,Adventure,Comedy,Drama</td>\n",
       "      <td>320.34</td>\n",
       "    </tr>\n",
       "    <tr>\n",
       "      <th>3</th>\n",
       "      <td>7.2</td>\n",
       "      <td>27,251</td>\n",
       "      <td>Sultan is a story of Sultan Ali Khan - a local...</td>\n",
       "      <td>Sultan</td>\n",
       "      <td>6,173</td>\n",
       "      <td>Ali Abbas Zafar</td>\n",
       "      <td>6-Jul-16</td>\n",
       "      <td>Salman Khan,Anushka Sharma,Marko Zaror</td>\n",
       "      <td>Action,Drama,Family,Romance,Sport</td>\n",
       "      <td>300.45</td>\n",
       "    </tr>\n",
       "    <tr>\n",
       "      <th>4</th>\n",
       "      <td>5.4</td>\n",
       "      <td>36,496</td>\n",
       "      <td>The favourite Indian action franchise is back....</td>\n",
       "      <td>Dhoom 3</td>\n",
       "      <td>8,031,955</td>\n",
       "      <td>Vijay Krishna Acharya</td>\n",
       "      <td>20-Dec-13</td>\n",
       "      <td>Aamir Khan,Katrina Kaif,Abhishek Bachchan</td>\n",
       "      <td>Action,Crime,Drama,Thriller</td>\n",
       "      <td>280.25</td>\n",
       "    </tr>\n",
       "  </tbody>\n",
       "</table>\n",
       "</div>"
      ],
      "text/plain": [
       "   Rating    Votes                                        Description  \\\n",
       "0     8.7   59,702  Biopic of Mahavir Singh Phogat, who taught wre...   \n",
       "1     8.2  106,800  P. K. is a comedy of ideas about a stranger in...   \n",
       "2     8.1   51,638  A little mute girl from a Pakistan village get...   \n",
       "3     7.2   27,251  Sultan is a story of Sultan Ali Khan - a local...   \n",
       "4     5.4   36,496  The favourite Indian action franchise is back....   \n",
       "\n",
       "               Title       Gross               Director    Release  \\\n",
       "0             Dangal  11,151,900          Nitesh Tiwari  21-Dec-16   \n",
       "1                 PK  10,572,800        Rajkumar Hirani  19-Dec-14   \n",
       "2  Bajrangi Bhaijaan   7,655,452             Kabir Khan  17-Jul-15   \n",
       "3             Sultan       6,173        Ali Abbas Zafar   6-Jul-16   \n",
       "4            Dhoom 3   8,031,955  Vijay Krishna Acharya  20-Dec-13   \n",
       "\n",
       "                                               Stars  \\\n",
       "0        Aamir Khan,Sakshi Tanwar,Fatima Sana Shaikh   \n",
       "1              Aamir Khan,Anushka Sharma,Sanjay Dutt   \n",
       "2  Salman Khan,Kareena Kapoor Khan,Nawazuddin Sid...   \n",
       "3             Salman Khan,Anushka Sharma,Marko Zaror   \n",
       "4          Aamir Khan,Katrina Kaif,Abhishek Bachchan   \n",
       "\n",
       "                                 Genre  Gross (India)  \n",
       "0         Action,Biography,Drama,Sport         387.39  \n",
       "1  Comedy,Drama,Fantasy,Romance,Sci-Fi         339.50  \n",
       "2        Action,Adventure,Comedy,Drama         320.34  \n",
       "3    Action,Drama,Family,Romance,Sport         300.45  \n",
       "4          Action,Crime,Drama,Thriller         280.25  "
      ]
     },
     "execution_count": 3,
     "metadata": {},
     "output_type": "execute_result"
    }
   ],
   "source": [
    "# set location of the csv file contating data about the movies \n",
    "file = './hindi_movies.csv'\n",
    "\n",
    "# load csv file into a pandas datafram \n",
    "data = pd.read_csv(file)\n",
    "\n",
    "# view the first 5 rows of the dataframe\n",
    "data.head()"
   ]
  },
  {
   "cell_type": "code",
   "execution_count": 4,
   "metadata": {},
   "outputs": [
    {
     "data": {
      "text/plain": [
       "Rating           <class 'numpy.float64'>\n",
       "Votes                      <class 'str'>\n",
       "Description                <class 'str'>\n",
       "Title                      <class 'str'>\n",
       "Gross                      <class 'str'>\n",
       "Director                   <class 'str'>\n",
       "Release                    <class 'str'>\n",
       "Stars                      <class 'str'>\n",
       "Genre                      <class 'str'>\n",
       "Gross (India)    <class 'numpy.float64'>\n",
       "Name: 0, dtype: object"
      ]
     },
     "execution_count": 4,
     "metadata": {},
     "output_type": "execute_result"
    }
   ],
   "source": [
    "data.iloc[0].apply(type)"
   ]
  },
  {
   "cell_type": "markdown",
   "metadata": {},
   "source": [
    "## Understanding the dataset \n",
    "\n",
    "- **Title:** The title of the movie. \n",
    "- **Description:** A textual description or synopsis of the movie. \n",
    "- **Director:** Names of the directors of the movie seperated by commas.\n",
    "- **Stars:** A comma seperated list of the lead actors starring in the movie.\n",
    "- **Genre:** A comma seperated list of genres the movie belongs to. \n",
    "- **Release:** The release date of the movie in the format day-month-year.\n",
    "- **Gross(India):** The box office collection of the movie in India, measured in Crore Rupees. \n",
    "- **Gross:** The box office collection of the movie in USA, measured in USD.\n",
    "- **Rating:** The averae rating of the movie on IMDB. \n",
    "- **Votes:** The number of ratings the movie has received on IMDB. "
   ]
  },
  {
   "cell_type": "markdown",
   "metadata": {},
   "source": [
    "## Cleaning the dataset \n",
    "We notice that the *Votes* column is of type `string`, and it should be converted to type `integer`. However, the simple `pd.to_numeric()` will not work as the strings contain commas and therefore commas need to be removed first. The *Gross* column also suffers from the same problem and a similar cleaning and conversion procedure must be followed. "
   ]
  },
  {
   "cell_type": "code",
   "execution_count": 5,
   "metadata": {
    "collapsed": true
   },
   "outputs": [],
   "source": [
    "# For every cell under the Votes column, replace commas with empty strings\n",
    "# and save the transformed column as the new Votes column\n",
    "data['Votes'] = data['Votes'].str.replace(',', '')\n",
    "\n",
    "# Covert the values under the Votes column from string to integer\n",
    "# and save it as the new Votes column\n",
    "data['Votes'] = pd.to_numeric(data['Votes'])"
   ]
  },
  {
   "cell_type": "code",
   "execution_count": 6,
   "metadata": {
    "collapsed": true
   },
   "outputs": [],
   "source": [
    "# For every cell under the Gross column, replace commas with empty strings\n",
    "# and save the transformed column as the new Gross column\n",
    "data['Gross'] = data['Gross'].str.replace(',', '')\n",
    "\n",
    "# Covert the values under the Gross column from string to integer\n",
    "# and save it as the new Gross column\n",
    "data['Gross'] = pd.to_numeric(data['Gross'])"
   ]
  },
  {
   "cell_type": "markdown",
   "metadata": {},
   "source": [
    "## Exploring the dataset "
   ]
  },
  {
   "cell_type": "code",
   "execution_count": 7,
   "metadata": {},
   "outputs": [
    {
     "data": {
      "text/plain": [
       "5607"
      ]
     },
     "execution_count": 7,
     "metadata": {},
     "output_type": "execute_result"
    }
   ],
   "source": [
    "# Number of movies in the dataset\n",
    "data.shape[0]"
   ]
  },
  {
   "cell_type": "code",
   "execution_count": 8,
   "metadata": {},
   "outputs": [
    {
     "data": {
      "text/html": [
       "<div>\n",
       "<style>\n",
       "    .dataframe thead tr:only-child th {\n",
       "        text-align: right;\n",
       "    }\n",
       "\n",
       "    .dataframe thead th {\n",
       "        text-align: left;\n",
       "    }\n",
       "\n",
       "    .dataframe tbody tr th {\n",
       "        vertical-align: top;\n",
       "    }\n",
       "</style>\n",
       "<table border=\"1\" class=\"dataframe\">\n",
       "  <thead>\n",
       "    <tr style=\"text-align: right;\">\n",
       "      <th></th>\n",
       "      <th>Rating</th>\n",
       "      <th>Votes</th>\n",
       "    </tr>\n",
       "  </thead>\n",
       "  <tbody>\n",
       "    <tr>\n",
       "      <th>count</th>\n",
       "      <td>4798.000000</td>\n",
       "      <td>4798.000000</td>\n",
       "    </tr>\n",
       "    <tr>\n",
       "      <th>mean</th>\n",
       "      <td>5.948458</td>\n",
       "      <td>1597.706753</td>\n",
       "    </tr>\n",
       "    <tr>\n",
       "      <th>std</th>\n",
       "      <td>1.364512</td>\n",
       "      <td>6843.694953</td>\n",
       "    </tr>\n",
       "    <tr>\n",
       "      <th>min</th>\n",
       "      <td>1.100000</td>\n",
       "      <td>5.000000</td>\n",
       "    </tr>\n",
       "    <tr>\n",
       "      <th>25%</th>\n",
       "      <td>5.000000</td>\n",
       "      <td>21.000000</td>\n",
       "    </tr>\n",
       "    <tr>\n",
       "      <th>50%</th>\n",
       "      <td>6.100000</td>\n",
       "      <td>70.000000</td>\n",
       "    </tr>\n",
       "    <tr>\n",
       "      <th>75%</th>\n",
       "      <td>7.000000</td>\n",
       "      <td>512.000000</td>\n",
       "    </tr>\n",
       "    <tr>\n",
       "      <th>max</th>\n",
       "      <td>9.000000</td>\n",
       "      <td>244050.000000</td>\n",
       "    </tr>\n",
       "  </tbody>\n",
       "</table>\n",
       "</div>"
      ],
      "text/plain": [
       "            Rating          Votes\n",
       "count  4798.000000    4798.000000\n",
       "mean      5.948458    1597.706753\n",
       "std       1.364512    6843.694953\n",
       "min       1.100000       5.000000\n",
       "25%       5.000000      21.000000\n",
       "50%       6.100000      70.000000\n",
       "75%       7.000000     512.000000\n",
       "max       9.000000  244050.000000"
      ]
     },
     "execution_count": 8,
     "metadata": {},
     "output_type": "execute_result"
    }
   ],
   "source": [
    "# Create a dataframe of movies for which a rating is present \n",
    "movies_with_rating = data[data['Rating'].isnull() == False]\n",
    "\n",
    "# Display the summary statistics for Rating and Votes\n",
    "movies_with_rating[['Rating', 'Votes']].describe()"
   ]
  },
  {
   "cell_type": "markdown",
   "metadata": {},
   "source": [
    "The *Rating* on IMDb is calculated as the mean of the all the ratings that a particular movie has received. The number of ratings received is *Votes* and from the analysis, it is discovered that the minimum number of *Votes* a movie has received is 5. This number is too low and therefore can produce an unfair, biased *Rating*. Thus, the only Rating that is considered valid is the one for which at least a 100 submissions have been made, i.e. Votes is greater than or equal to 100.  "
   ]
  },
  {
   "cell_type": "code",
   "execution_count": 9,
   "metadata": {},
   "outputs": [
    {
     "data": {
      "text/html": [
       "<div>\n",
       "<style>\n",
       "    .dataframe thead tr:only-child th {\n",
       "        text-align: right;\n",
       "    }\n",
       "\n",
       "    .dataframe thead th {\n",
       "        text-align: left;\n",
       "    }\n",
       "\n",
       "    .dataframe tbody tr th {\n",
       "        vertical-align: top;\n",
       "    }\n",
       "</style>\n",
       "<table border=\"1\" class=\"dataframe\">\n",
       "  <thead>\n",
       "    <tr style=\"text-align: right;\">\n",
       "      <th></th>\n",
       "      <th>Rating</th>\n",
       "      <th>Votes</th>\n",
       "    </tr>\n",
       "  </thead>\n",
       "  <tbody>\n",
       "    <tr>\n",
       "      <th>count</th>\n",
       "      <td>2141.000000</td>\n",
       "      <td>2141.000000</td>\n",
       "    </tr>\n",
       "    <tr>\n",
       "      <th>mean</th>\n",
       "      <td>5.930453</td>\n",
       "      <td>3542.204577</td>\n",
       "    </tr>\n",
       "    <tr>\n",
       "      <th>std</th>\n",
       "      <td>1.459720</td>\n",
       "      <td>9907.354596</td>\n",
       "    </tr>\n",
       "    <tr>\n",
       "      <th>min</th>\n",
       "      <td>1.700000</td>\n",
       "      <td>100.000000</td>\n",
       "    </tr>\n",
       "    <tr>\n",
       "      <th>25%</th>\n",
       "      <td>4.900000</td>\n",
       "      <td>248.000000</td>\n",
       "    </tr>\n",
       "    <tr>\n",
       "      <th>50%</th>\n",
       "      <td>6.100000</td>\n",
       "      <td>667.000000</td>\n",
       "    </tr>\n",
       "    <tr>\n",
       "      <th>75%</th>\n",
       "      <td>7.100000</td>\n",
       "      <td>2504.000000</td>\n",
       "    </tr>\n",
       "    <tr>\n",
       "      <th>max</th>\n",
       "      <td>8.900000</td>\n",
       "      <td>244050.000000</td>\n",
       "    </tr>\n",
       "  </tbody>\n",
       "</table>\n",
       "</div>"
      ],
      "text/plain": [
       "            Rating          Votes\n",
       "count  2141.000000    2141.000000\n",
       "mean      5.930453    3542.204577\n",
       "std       1.459720    9907.354596\n",
       "min       1.700000     100.000000\n",
       "25%       4.900000     248.000000\n",
       "50%       6.100000     667.000000\n",
       "75%       7.100000    2504.000000\n",
       "max       8.900000  244050.000000"
      ]
     },
     "execution_count": 9,
     "metadata": {},
     "output_type": "execute_result"
    }
   ],
   "source": [
    "# Only count rating for movies for which Votes is greater\n",
    "# than or equal to 100\n",
    "movies_with_rating = movies_with_rating[movies_with_rating['Votes'] >= 100]\n",
    "movies_with_rating[['Rating', 'Votes']].describe()"
   ]
  },
  {
   "cell_type": "code",
   "execution_count": 10,
   "metadata": {},
   "outputs": [
    {
     "data": {
      "image/png": "[encoded data removed]",
      "text/plain": [
       "<matplotlib.figure.Figure at 0x19f0e0df9b0>"
      ]
     },
     "metadata": {},
     "output_type": "display_data"
    }
   ],
   "source": [
    "# Plot a histogram of movie ratings\n",
    "plt.hist(movies_with_rating['Rating'], bins=20)\n",
    "plt.title(\"Distribution of movie rating\")\n",
    "plt.xlabel(\"Rating\")\n",
    "plt.ylabel(\"Number of movies\")\n",
    "plt.show()"
   ]
  }
 ],
 "metadata": {
  "kernelspec": {
   "display_name": "Python 3",
   "language": "python",
   "name": "python3"
  },
  "language_info": {
   "codemirror_mode": {
    "name": "ipython",
    "version": 3
   },
   "file_extension": ".py",
   "mimetype": "text/x-python",
   "name": "python",
   "nbconvert_exporter": "python",
   "pygments_lexer": "ipython3",
   "version": "3.6.3"
  }
 },
 "nbformat": 4,
 "nbformat_minor": 2
}
