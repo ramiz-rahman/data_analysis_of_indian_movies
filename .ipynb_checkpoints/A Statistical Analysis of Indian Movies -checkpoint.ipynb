{
 "cells": [
  {
   "cell_type": "markdown",
   "metadata": {},
   "source": [
    "# A Statistical Analysis of Indian Movies\n",
    "\n",
    "### Questions worth asking \n",
    "\n",
    " - Basic Exploration\n",
    "    - Average rating of movies\n",
    "    - Average gross per movie\n",
    "    - Most popular genre\n",
    "    - Number of Unique Stars\n",
    "    - Number of unique directors \n",
    "     \n",
    "     \n",
    " - Factors affecting movie performance \n",
    "    - Is there any realtionship between gross and genre \n",
    "    - Is there any realtionship between rating and genre \n",
    "    - Is there any relationship between rating and gross \n",
    "     \n",
    "     \n",
    " - Can we learn something deeper about directors \n",
    "    - How many movies were directed by each director\n",
    "    - Do most directors stick to the same genres \n",
    "    - What are the popular genres for inexperienced directors\n",
    "     \n",
    "     \n",
    " - Can we learn something deeper about stars\n",
    "      - Who are the highest grossing stars \n",
    "      - Who are the best rated stars "
   ]
  },
  {
   "cell_type": "code",
   "execution_count": 1,
   "metadata": {
    "collapsed": true
   },
   "outputs": [],
   "source": [
    "# Setting up the environment \n",
    "\n",
    "import numpy as np\n",
    "import pandas as pd\n",
    "import matplotlib as mpl\n",
    "import matplotlib.pyplot as plt\n",
    "# In a notebook environment, display the plots inline\n",
    "%matplotlib inline\n"
   ]
  },
  {
   "cell_type": "code",
   "execution_count": 2,
   "metadata": {
    "collapsed": true
   },
   "outputs": [],
   "source": [
    "# Set the style of the plots to match that used on the website\n",
    "# 'fivethirtyeight'\n",
    "plt.style.use('fivethirtyeight')\n",
    "\n",
    "# Set some parameters to apply to all plots. These can be overridden\n",
    "# in each plot if desired\n",
    "# Plot size to 14\" x 7\"\n",
    "mpl.rc('figure', figsize = (12, 6))\n",
    "# Font size to 14\n",
    "mpl.rc('font', size = 14)\n",
    "# Do not display top and right frame lines\n",
    "#mpl.rc('axes.spines', top = False, right = False)\n",
    "# Remove grid lines\n",
    "#mpl.rc('axes', grid = False)\n",
    "# Set backgound color to white\n",
    "#mpl.rc('axes', facecolor = 'white')\n",
    "\n",
    "# Set display precision to 4dp\n",
    "pd.set_option('precision', 4)"
   ]
  },
  {
   "cell_type": "code",
   "execution_count": 3,
   "metadata": {},
   "outputs": [
    {
     "data": {
      "text/html": [
       "<div>\n",
       "<style>\n",
       "    .dataframe thead tr:only-child th {\n",
       "        text-align: right;\n",
       "    }\n",
       "\n",
       "    .dataframe thead th {\n",
       "        text-align: left;\n",
       "    }\n",
       "\n",
       "    .dataframe tbody tr th {\n",
       "        vertical-align: top;\n",
       "    }\n",
       "</style>\n",
       "<table border=\"1\" class=\"dataframe\">\n",
       "  <thead>\n",
       "    <tr style=\"text-align: right;\">\n",
       "      <th></th>\n",
       "      <th>Rating</th>\n",
       "      <th>Votes</th>\n",
       "      <th>Description</th>\n",
       "      <th>Title</th>\n",
       "      <th>Gross</th>\n",
       "      <th>Director</th>\n",
       "      <th>Release</th>\n",
       "      <th>Stars</th>\n",
       "      <th>Genre</th>\n",
       "      <th>Gross (India)</th>\n",
       "    </tr>\n",
       "  </thead>\n",
       "  <tbody>\n",
       "    <tr>\n",
       "      <th>0</th>\n",
       "      <td>8.7</td>\n",
       "      <td>59,702</td>\n",
       "      <td>Biopic of Mahavir Singh Phogat, who taught wre...</td>\n",
       "      <td>Dangal</td>\n",
       "      <td>11,151,900</td>\n",
       "      <td>Nitesh Tiwari</td>\n",
       "      <td>21-Dec-16</td>\n",
       "      <td>Aamir Khan,Sakshi Tanwar,Fatima Sana Shaikh</td>\n",
       "      <td>Action,Biography,Drama,Sport</td>\n",
       "      <td>387.39</td>\n",
       "    </tr>\n",
       "    <tr>\n",
       "      <th>1</th>\n",
       "      <td>8.2</td>\n",
       "      <td>106,800</td>\n",
       "      <td>P. K. is a comedy of ideas about a stranger in...</td>\n",
       "      <td>PK</td>\n",
       "      <td>10,572,800</td>\n",
       "      <td>Rajkumar Hirani</td>\n",
       "      <td>19-Dec-14</td>\n",
       "      <td>Aamir Khan,Anushka Sharma,Sanjay Dutt</td>\n",
       "      <td>Comedy,Drama,Fantasy,Romance,Sci-Fi</td>\n",
       "      <td>339.50</td>\n",
       "    </tr>\n",
       "    <tr>\n",
       "      <th>2</th>\n",
       "      <td>8.1</td>\n",
       "      <td>51,638</td>\n",
       "      <td>A little mute girl from a Pakistan village get...</td>\n",
       "      <td>Bajrangi Bhaijaan</td>\n",
       "      <td>7,655,452</td>\n",
       "      <td>Kabir Khan</td>\n",
       "      <td>17-Jul-15</td>\n",
       "      <td>Salman Khan,Kareena Kapoor Khan,Nawazuddin Sid...</td>\n",
       "      <td>Action,Adventure,Comedy,Drama</td>\n",
       "      <td>320.34</td>\n",
       "    </tr>\n",
       "    <tr>\n",
       "      <th>3</th>\n",
       "      <td>7.2</td>\n",
       "      <td>27,251</td>\n",
       "      <td>Sultan is a story of Sultan Ali Khan - a local...</td>\n",
       "      <td>Sultan</td>\n",
       "      <td>6,173</td>\n",
       "      <td>Ali Abbas Zafar</td>\n",
       "      <td>6-Jul-16</td>\n",
       "      <td>Salman Khan,Anushka Sharma,Marko Zaror</td>\n",
       "      <td>Action,Drama,Family,Romance,Sport</td>\n",
       "      <td>300.45</td>\n",
       "    </tr>\n",
       "    <tr>\n",
       "      <th>4</th>\n",
       "      <td>5.4</td>\n",
       "      <td>36,496</td>\n",
       "      <td>The favourite Indian action franchise is back....</td>\n",
       "      <td>Dhoom 3</td>\n",
       "      <td>8,031,955</td>\n",
       "      <td>Vijay Krishna Acharya</td>\n",
       "      <td>20-Dec-13</td>\n",
       "      <td>Aamir Khan,Katrina Kaif,Abhishek Bachchan</td>\n",
       "      <td>Action,Crime,Drama,Thriller</td>\n",
       "      <td>280.25</td>\n",
       "    </tr>\n",
       "  </tbody>\n",
       "</table>\n",
       "</div>"
      ],
      "text/plain": [
       "   Rating    Votes                                        Description  \\\n",
       "0     8.7   59,702  Biopic of Mahavir Singh Phogat, who taught wre...   \n",
       "1     8.2  106,800  P. K. is a comedy of ideas about a stranger in...   \n",
       "2     8.1   51,638  A little mute girl from a Pakistan village get...   \n",
       "3     7.2   27,251  Sultan is a story of Sultan Ali Khan - a local...   \n",
       "4     5.4   36,496  The favourite Indian action franchise is back....   \n",
       "\n",
       "               Title       Gross               Director    Release  \\\n",
       "0             Dangal  11,151,900          Nitesh Tiwari  21-Dec-16   \n",
       "1                 PK  10,572,800        Rajkumar Hirani  19-Dec-14   \n",
       "2  Bajrangi Bhaijaan   7,655,452             Kabir Khan  17-Jul-15   \n",
       "3             Sultan       6,173        Ali Abbas Zafar   6-Jul-16   \n",
       "4            Dhoom 3   8,031,955  Vijay Krishna Acharya  20-Dec-13   \n",
       "\n",
       "                                               Stars  \\\n",
       "0        Aamir Khan,Sakshi Tanwar,Fatima Sana Shaikh   \n",
       "1              Aamir Khan,Anushka Sharma,Sanjay Dutt   \n",
       "2  Salman Khan,Kareena Kapoor Khan,Nawazuddin Sid...   \n",
       "3             Salman Khan,Anushka Sharma,Marko Zaror   \n",
       "4          Aamir Khan,Katrina Kaif,Abhishek Bachchan   \n",
       "\n",
       "                                 Genre  Gross (India)  \n",
       "0         Action,Biography,Drama,Sport         387.39  \n",
       "1  Comedy,Drama,Fantasy,Romance,Sci-Fi         339.50  \n",
       "2        Action,Adventure,Comedy,Drama         320.34  \n",
       "3    Action,Drama,Family,Romance,Sport         300.45  \n",
       "4          Action,Crime,Drama,Thriller         280.25  "
      ]
     },
     "execution_count": 3,
     "metadata": {},
     "output_type": "execute_result"
    }
   ],
   "source": [
    "# set location of the csv file contating data about the movies \n",
    "file = './hindi_movies.csv'\n",
    "\n",
    "# load csv file into a pandas datafram \n",
    "data = pd.read_csv(file)\n",
    "\n",
    "# view the first 5 rows of the dataframe\n",
    "data.head()"
   ]
  },
  {
   "cell_type": "code",
   "execution_count": 4,
   "metadata": {},
   "outputs": [
    {
     "data": {
      "text/plain": [
       "Rating           <class 'numpy.float64'>\n",
       "Votes                      <class 'str'>\n",
       "Description                <class 'str'>\n",
       "Title                      <class 'str'>\n",
       "Gross                      <class 'str'>\n",
       "Director                   <class 'str'>\n",
       "Release                    <class 'str'>\n",
       "Stars                      <class 'str'>\n",
       "Genre                      <class 'str'>\n",
       "Gross (India)    <class 'numpy.float64'>\n",
       "Name: 0, dtype: object"
      ]
     },
     "execution_count": 4,
     "metadata": {},
     "output_type": "execute_result"
    }
   ],
   "source": [
    "# View the data type of each column \n",
    "data.iloc[0].apply(type)"
   ]
  },
  {
   "cell_type": "markdown",
   "metadata": {},
   "source": [
    "## Understanding the dataset \n",
    "\n",
    "- **Title:** The title of the movie. \n",
    "- **Description:** A textual description or synopsis of the movie. \n",
    "- **Director:** Name of director.\n",
    "- **Stars:** A comma seperated list of the lead actors starring in the movie.\n",
    "- **Genre:** A comma seperated list of genres the movie belongs to. \n",
    "- **Release:** The release date of the movie in the format day-month-year.\n",
    "- **Gross(India):** The box office collection of the movie in India, measured in Crore Rupees. \n",
    "- **Gross:** The box office collection of the movie in USA, measured in USD.\n",
    "- **Rating:** The averae rating of the movie on IMDB. \n",
    "- **Votes:** The number of ratings the movie has received on IMDB. "
   ]
  },
  {
   "cell_type": "markdown",
   "metadata": {},
   "source": [
    "## Cleaning the dataset \n",
    "We notice that the *Votes* column is of type `string`, and it should be converted to type `integer`. However, the simple `pd.to_numeric()` will not work as the strings contain commas and therefore commas need to be removed first. The *Gross* column also suffers from the same problem and a similar cleaning and conversion procedure must be followed. "
   ]
  },
  {
   "cell_type": "code",
   "execution_count": 5,
   "metadata": {
    "collapsed": true
   },
   "outputs": [],
   "source": [
    "# For every cell under the Votes column, replace commas with empty strings\n",
    "# and save the transformed column as the new Votes column\n",
    "data['Votes'] = data['Votes'].str.replace(',', '')\n",
    "\n",
    "# Covert the values under the Votes column from string to integer\n",
    "# and save it as the new Votes column\n",
    "data['Votes'] = pd.to_numeric(data['Votes'])"
   ]
  },
  {
   "cell_type": "code",
   "execution_count": 6,
   "metadata": {
    "collapsed": true
   },
   "outputs": [],
   "source": [
    "# For every cell under the Gross column, replace commas with empty strings\n",
    "# and save the transformed column as the new Gross column\n",
    "data['Gross'] = data['Gross'].str.replace(',', '')\n",
    "\n",
    "# Covert the values under the Gross column from string to integer\n",
    "# and save it as the new Gross column\n",
    "data['Gross'] = pd.to_numeric(data['Gross'])"
   ]
  },
  {
   "cell_type": "markdown",
   "metadata": {},
   "source": [
    "## Exploring the dataset "
   ]
  },
  {
   "cell_type": "code",
   "execution_count": 7,
   "metadata": {},
   "outputs": [
    {
     "data": {
      "text/plain": [
       "5607"
      ]
     },
     "execution_count": 7,
     "metadata": {},
     "output_type": "execute_result"
    }
   ],
   "source": [
    "# Number of movies in the dataset\n",
    "data.shape[0]"
   ]
  },
  {
   "cell_type": "markdown",
   "metadata": {},
   "source": [
    "### Understanding the **Rating**"
   ]
  },
  {
   "cell_type": "code",
   "execution_count": 8,
   "metadata": {},
   "outputs": [
    {
     "data": {
      "text/html": [
       "<div>\n",
       "<style>\n",
       "    .dataframe thead tr:only-child th {\n",
       "        text-align: right;\n",
       "    }\n",
       "\n",
       "    .dataframe thead th {\n",
       "        text-align: left;\n",
       "    }\n",
       "\n",
       "    .dataframe tbody tr th {\n",
       "        vertical-align: top;\n",
       "    }\n",
       "</style>\n",
       "<table border=\"1\" class=\"dataframe\">\n",
       "  <thead>\n",
       "    <tr style=\"text-align: right;\">\n",
       "      <th></th>\n",
       "      <th>Rating</th>\n",
       "      <th>Votes</th>\n",
       "    </tr>\n",
       "  </thead>\n",
       "  <tbody>\n",
       "    <tr>\n",
       "      <th>count</th>\n",
       "      <td>4798.000000</td>\n",
       "      <td>4798.000000</td>\n",
       "    </tr>\n",
       "    <tr>\n",
       "      <th>mean</th>\n",
       "      <td>5.948458</td>\n",
       "      <td>1597.706753</td>\n",
       "    </tr>\n",
       "    <tr>\n",
       "      <th>std</th>\n",
       "      <td>1.364512</td>\n",
       "      <td>6843.694953</td>\n",
       "    </tr>\n",
       "    <tr>\n",
       "      <th>min</th>\n",
       "      <td>1.100000</td>\n",
       "      <td>5.000000</td>\n",
       "    </tr>\n",
       "    <tr>\n",
       "      <th>25%</th>\n",
       "      <td>5.000000</td>\n",
       "      <td>21.000000</td>\n",
       "    </tr>\n",
       "    <tr>\n",
       "      <th>50%</th>\n",
       "      <td>6.100000</td>\n",
       "      <td>70.000000</td>\n",
       "    </tr>\n",
       "    <tr>\n",
       "      <th>75%</th>\n",
       "      <td>7.000000</td>\n",
       "      <td>512.000000</td>\n",
       "    </tr>\n",
       "    <tr>\n",
       "      <th>max</th>\n",
       "      <td>9.000000</td>\n",
       "      <td>244050.000000</td>\n",
       "    </tr>\n",
       "  </tbody>\n",
       "</table>\n",
       "</div>"
      ],
      "text/plain": [
       "            Rating          Votes\n",
       "count  4798.000000    4798.000000\n",
       "mean      5.948458    1597.706753\n",
       "std       1.364512    6843.694953\n",
       "min       1.100000       5.000000\n",
       "25%       5.000000      21.000000\n",
       "50%       6.100000      70.000000\n",
       "75%       7.000000     512.000000\n",
       "max       9.000000  244050.000000"
      ]
     },
     "execution_count": 8,
     "metadata": {},
     "output_type": "execute_result"
    }
   ],
   "source": [
    "# Create a dataframe of movies for which a rating is present \n",
    "movies_with_rating = data[data['Rating'].isnull() == False]\n",
    "\n",
    "# Display the summary statistics for Rating and Votes\n",
    "movies_with_rating[['Rating', 'Votes']].describe()"
   ]
  },
  {
   "cell_type": "markdown",
   "metadata": {},
   "source": [
    "The *Rating* on IMDb is calculated as the mean of the all the ratings that a particular movie has received. The number of ratings received is *Votes* and from the analysis, it is discovered that the minimum number of *Votes* a movie has received is 5. This number is too low and therefore can produce an unfair, biased *Rating*. Thus, the only Rating that is considered valid is the one for which at least a 100 submissions have been made, i.e. Votes is greater than or equal to 100.  "
   ]
  },
  {
   "cell_type": "code",
   "execution_count": 9,
   "metadata": {},
   "outputs": [
    {
     "data": {
      "text/html": [
       "<div>\n",
       "<style>\n",
       "    .dataframe thead tr:only-child th {\n",
       "        text-align: right;\n",
       "    }\n",
       "\n",
       "    .dataframe thead th {\n",
       "        text-align: left;\n",
       "    }\n",
       "\n",
       "    .dataframe tbody tr th {\n",
       "        vertical-align: top;\n",
       "    }\n",
       "</style>\n",
       "<table border=\"1\" class=\"dataframe\">\n",
       "  <thead>\n",
       "    <tr style=\"text-align: right;\">\n",
       "      <th></th>\n",
       "      <th>Rating</th>\n",
       "      <th>Votes</th>\n",
       "    </tr>\n",
       "  </thead>\n",
       "  <tbody>\n",
       "    <tr>\n",
       "      <th>count</th>\n",
       "      <td>2141.000000</td>\n",
       "      <td>2141.000000</td>\n",
       "    </tr>\n",
       "    <tr>\n",
       "      <th>mean</th>\n",
       "      <td>5.930453</td>\n",
       "      <td>3542.204577</td>\n",
       "    </tr>\n",
       "    <tr>\n",
       "      <th>std</th>\n",
       "      <td>1.459720</td>\n",
       "      <td>9907.354596</td>\n",
       "    </tr>\n",
       "    <tr>\n",
       "      <th>min</th>\n",
       "      <td>1.700000</td>\n",
       "      <td>100.000000</td>\n",
       "    </tr>\n",
       "    <tr>\n",
       "      <th>25%</th>\n",
       "      <td>4.900000</td>\n",
       "      <td>248.000000</td>\n",
       "    </tr>\n",
       "    <tr>\n",
       "      <th>50%</th>\n",
       "      <td>6.100000</td>\n",
       "      <td>667.000000</td>\n",
       "    </tr>\n",
       "    <tr>\n",
       "      <th>75%</th>\n",
       "      <td>7.100000</td>\n",
       "      <td>2504.000000</td>\n",
       "    </tr>\n",
       "    <tr>\n",
       "      <th>max</th>\n",
       "      <td>8.900000</td>\n",
       "      <td>244050.000000</td>\n",
       "    </tr>\n",
       "  </tbody>\n",
       "</table>\n",
       "</div>"
      ],
      "text/plain": [
       "            Rating          Votes\n",
       "count  2141.000000    2141.000000\n",
       "mean      5.930453    3542.204577\n",
       "std       1.459720    9907.354596\n",
       "min       1.700000     100.000000\n",
       "25%       4.900000     248.000000\n",
       "50%       6.100000     667.000000\n",
       "75%       7.100000    2504.000000\n",
       "max       8.900000  244050.000000"
      ]
     },
     "execution_count": 9,
     "metadata": {},
     "output_type": "execute_result"
    }
   ],
   "source": [
    "# Only count rating for movies for which Votes is greater\n",
    "# than or equal to 100\n",
    "movies_with_rating = movies_with_rating[movies_with_rating['Votes'] >= 100]\n",
    "movies_with_rating[['Rating', 'Votes']].describe()"
   ]
  },
  {
   "cell_type": "code",
   "execution_count": 20,
   "metadata": {},
   "outputs": [
    {
     "data": {
      "image/png": "[encoded data removed]",
      "text/plain": [
       "<matplotlib.figure.Figure at 0x157612f3358>"
      ]
     },
     "metadata": {},
     "output_type": "display_data"
    }
   ],
   "source": [
    "# Plot a histogram of movie ratings\n",
    "plt.hist(movies_with_rating['Rating'].sort_values(), bins=20)\n",
    "plt.title(\"Distribution of movie rating\")\n",
    "plt.xlabel(\"Rating\")\n",
    "plt.ylabel(\"Number of movies\")\n",
    "plt.show()"
   ]
  },
  {
   "cell_type": "code",
   "execution_count": 14,
   "metadata": {},
   "outputs": [
    {
     "data": {
      "image/png": "[encoded data removed]",
      "text/plain": [
       "<matplotlib.figure.Figure at 0x15760e86748>"
      ]
     },
     "metadata": {},
     "output_type": "display_data"
    }
   ],
   "source": [
    "# Create a boxplot to show the range of ratings\n",
    "plt.boxplot(movies_with_rating['Rating'], vert=False)\n",
    "plt.xlabel('Rating')\n",
    "plt.show()"
   ]
  },
  {
   "cell_type": "markdown",
   "metadata": {},
   "source": [
    "### Understaing the 'Gross'\n",
    "\n",
    "In the data set, there are two measures of box office performance. There is the *Gross* column which represents the US box office collection and the *Gross (India)* column which represents the box office collection in India. "
   ]
  },
  {
   "cell_type": "code",
   "execution_count": 19,
   "metadata": {},
   "outputs": [
    {
     "data": {
      "text/plain": [
       "count    3.0400e+02\n",
       "mean     1.0391e+06\n",
       "std      1.6178e+06\n",
       "min      1.9540e+03\n",
       "25%      2.2052e+05\n",
       "50%      5.4095e+05\n",
       "75%      1.1591e+06\n",
       "max      1.3877e+07\n",
       "Name: Gross, dtype: float64"
      ]
     },
     "execution_count": 19,
     "metadata": {},
     "output_type": "execute_result"
    }
   ],
   "source": [
    "# Create a dataframe of movies for which Gross figure is present \n",
    "movies_with_gross = data[data['Gross'].isnull() == False]\n",
    "\n",
    "# Display the summary statistics for Gross\n",
    "movies_with_gross['Gross'].describe()"
   ]
  },
  {
   "cell_type": "code",
   "execution_count": 116,
   "metadata": {},
   "outputs": [
    {
     "data": {
      "image/png": "[encoded data removed]",
      "text/plain": [
       "<matplotlib.figure.Figure at 0x15771830470>"
      ]
     },
     "metadata": {},
     "output_type": "display_data"
    }
   ],
   "source": [
    "# Plot a histogram of US gross\n",
    "plt.hist(movies_with_gross['Gross'].sort_values(), bins=76)\n",
    "plt.title(\"Box Office Gross (USA)\")\n",
    "plt.xlabel(\"Box office gross in USD\")\n",
    "plt.ylabel(\"Number of movies\")\n",
    "plt.show()"
   ]
  },
  {
   "cell_type": "code",
   "execution_count": 22,
   "metadata": {},
   "outputs": [
    {
     "data": {
      "image/png": "[encoded data removed]",
      "text/plain": [
       "<matplotlib.figure.Figure at 0x15761943940>"
      ]
     },
     "metadata": {},
     "output_type": "display_data"
    }
   ],
   "source": [
    "# Create a boxplot to show the range of US Gross\n",
    "plt.boxplot(movies_with_gross['Gross'], vert=False)\n",
    "plt.title('Boxplot of Box Office Gross (USA)')\n",
    "plt.xlabel('Gross in USD')\n",
    "plt.show()"
   ]
  },
  {
   "cell_type": "code",
   "execution_count": 23,
   "metadata": {},
   "outputs": [
    {
     "data": {
      "text/html": [
       "<div>\n",
       "<style>\n",
       "    .dataframe thead tr:only-child th {\n",
       "        text-align: right;\n",
       "    }\n",
       "\n",
       "    .dataframe thead th {\n",
       "        text-align: left;\n",
       "    }\n",
       "\n",
       "    .dataframe tbody tr th {\n",
       "        vertical-align: top;\n",
       "    }\n",
       "</style>\n",
       "<table border=\"1\" class=\"dataframe\">\n",
       "  <thead>\n",
       "    <tr style=\"text-align: right;\">\n",
       "      <th></th>\n",
       "      <th>Rating</th>\n",
       "      <th>Votes</th>\n",
       "      <th>Gross</th>\n",
       "      <th>Gross (India)</th>\n",
       "    </tr>\n",
       "  </thead>\n",
       "  <tbody>\n",
       "    <tr>\n",
       "      <th>count</th>\n",
       "      <td>28.0000</td>\n",
       "      <td>28.0000</td>\n",
       "      <td>2.8000e+01</td>\n",
       "      <td>16.0000</td>\n",
       "    </tr>\n",
       "    <tr>\n",
       "      <th>mean</th>\n",
       "      <td>7.0250</td>\n",
       "      <td>42729.1429</td>\n",
       "      <td>4.9290e+06</td>\n",
       "      <td>183.3106</td>\n",
       "    </tr>\n",
       "    <tr>\n",
       "      <th>std</th>\n",
       "      <td>1.0838</td>\n",
       "      <td>45283.7414</td>\n",
       "      <td>2.8973e+06</td>\n",
       "      <td>103.7290</td>\n",
       "    </tr>\n",
       "    <tr>\n",
       "      <th>min</th>\n",
       "      <td>4.7000</td>\n",
       "      <td>1558.0000</td>\n",
       "      <td>2.6339e+06</td>\n",
       "      <td>22.2100</td>\n",
       "    </tr>\n",
       "    <tr>\n",
       "      <th>25%</th>\n",
       "      <td>6.3250</td>\n",
       "      <td>20244.5000</td>\n",
       "      <td>3.0691e+06</td>\n",
       "      <td>109.3750</td>\n",
       "    </tr>\n",
       "    <tr>\n",
       "      <th>50%</th>\n",
       "      <td>7.1500</td>\n",
       "      <td>31601.5000</td>\n",
       "      <td>3.7396e+06</td>\n",
       "      <td>161.5000</td>\n",
       "    </tr>\n",
       "    <tr>\n",
       "      <th>75%</th>\n",
       "      <td>7.9250</td>\n",
       "      <td>46213.7500</td>\n",
       "      <td>5.6108e+06</td>\n",
       "      <td>240.0875</td>\n",
       "    </tr>\n",
       "    <tr>\n",
       "      <th>max</th>\n",
       "      <td>8.7000</td>\n",
       "      <td>244050.0000</td>\n",
       "      <td>1.3877e+07</td>\n",
       "      <td>387.3900</td>\n",
       "    </tr>\n",
       "  </tbody>\n",
       "</table>\n",
       "</div>"
      ],
      "text/plain": [
       "        Rating        Votes       Gross  Gross (India)\n",
       "count  28.0000      28.0000  2.8000e+01        16.0000\n",
       "mean    7.0250   42729.1429  4.9290e+06       183.3106\n",
       "std     1.0838   45283.7414  2.8973e+06       103.7290\n",
       "min     4.7000    1558.0000  2.6339e+06        22.2100\n",
       "25%     6.3250   20244.5000  3.0691e+06       109.3750\n",
       "50%     7.1500   31601.5000  3.7396e+06       161.5000\n",
       "75%     7.9250   46213.7500  5.6108e+06       240.0875\n",
       "max     8.7000  244050.0000  1.3877e+07       387.3900"
      ]
     },
     "execution_count": 23,
     "metadata": {},
     "output_type": "execute_result"
    }
   ],
   "source": [
    "# Find out the outliers in the dataset \n",
    "q1 = movies_with_gross['Gross'].quantile(0.25)\n",
    "q3 = movies_with_gross['Gross'].quantile(0.75)\n",
    "iqr = q3 - q1\n",
    "outliers = movies_with_gross.query('Gross > (@q3 + 1.5 * @iqr)')\n",
    "\n",
    "outliers.describe()"
   ]
  },
  {
   "cell_type": "code",
   "execution_count": 24,
   "metadata": {},
   "outputs": [
    {
     "name": "stdout",
     "output_type": "stream",
     "text": [
      "Median gross of outliers = 3739582.5\n",
      "Percentage of outliers = 9.210526315789473\n"
     ]
    }
   ],
   "source": [
    "print(\"Median gross of outliers = {}\".format(outliers['Gross'].median()))\n",
    "print(\"Percentage of outliers = {}\".format(outliers['Title'].count()/movies_with_gross['Title'].count() * 100))"
   ]
  },
  {
   "cell_type": "code",
   "execution_count": 35,
   "metadata": {},
   "outputs": [
    {
     "name": "stdout",
     "output_type": "stream",
     "text": [
      "Movies which have a US box office gross above $5 million:\n"
     ]
    },
    {
     "data": {
      "text/html": [
       "<div>\n",
       "<style>\n",
       "    .dataframe thead tr:only-child th {\n",
       "        text-align: right;\n",
       "    }\n",
       "\n",
       "    .dataframe thead th {\n",
       "        text-align: left;\n",
       "    }\n",
       "\n",
       "    .dataframe tbody tr th {\n",
       "        vertical-align: top;\n",
       "    }\n",
       "</style>\n",
       "<table border=\"1\" class=\"dataframe\">\n",
       "  <thead>\n",
       "    <tr style=\"text-align: right;\">\n",
       "      <th></th>\n",
       "      <th>Title</th>\n",
       "      <th>Director</th>\n",
       "      <th>Stars</th>\n",
       "      <th>Rating</th>\n",
       "      <th>Gross</th>\n",
       "      <th>Gross (India)</th>\n",
       "      <th>Release</th>\n",
       "    </tr>\n",
       "  </thead>\n",
       "  <tbody>\n",
       "    <tr>\n",
       "      <th>0</th>\n",
       "      <td>Monsoon Wedding</td>\n",
       "      <td>Mira Nair</td>\n",
       "      <td>Naseeruddin Shah,Lillete Dubey,Shefali Shetty</td>\n",
       "      <td>7.4</td>\n",
       "      <td>1.3877e+07</td>\n",
       "      <td>NaN</td>\n",
       "      <td>26 April 2002</td>\n",
       "    </tr>\n",
       "    <tr>\n",
       "      <th>1</th>\n",
       "      <td>Dangal</td>\n",
       "      <td>Nitesh Tiwari</td>\n",
       "      <td>Aamir Khan,Sakshi Tanwar,Fatima Sana Shaikh</td>\n",
       "      <td>8.7</td>\n",
       "      <td>1.1152e+07</td>\n",
       "      <td>387.39</td>\n",
       "      <td>21-Dec-16</td>\n",
       "    </tr>\n",
       "    <tr>\n",
       "      <th>2</th>\n",
       "      <td>PK</td>\n",
       "      <td>Rajkumar Hirani</td>\n",
       "      <td>Aamir Khan,Anushka Sharma,Sanjay Dutt</td>\n",
       "      <td>8.2</td>\n",
       "      <td>1.0573e+07</td>\n",
       "      <td>339.50</td>\n",
       "      <td>19-Dec-14</td>\n",
       "    </tr>\n",
       "    <tr>\n",
       "      <th>3</th>\n",
       "      <td>Dhoom 3</td>\n",
       "      <td>Vijay Krishna Acharya</td>\n",
       "      <td>Aamir Khan,Katrina Kaif,Abhishek Bachchan</td>\n",
       "      <td>5.4</td>\n",
       "      <td>8.0320e+06</td>\n",
       "      <td>280.25</td>\n",
       "      <td>20-Dec-13</td>\n",
       "    </tr>\n",
       "    <tr>\n",
       "      <th>4</th>\n",
       "      <td>Bajrangi Bhaijaan</td>\n",
       "      <td>Kabir Khan</td>\n",
       "      <td>Salman Khan,Kareena Kapoor Khan,Nawazuddin Sid...</td>\n",
       "      <td>8.1</td>\n",
       "      <td>7.6555e+06</td>\n",
       "      <td>320.34</td>\n",
       "      <td>17-Jul-15</td>\n",
       "    </tr>\n",
       "    <tr>\n",
       "      <th>5</th>\n",
       "      <td>Bajirao Mastani</td>\n",
       "      <td>Sanjay Leela Bhansali</td>\n",
       "      <td>Ranveer Singh,Priyanka Chopra,Deepika Padukone</td>\n",
       "      <td>7.2</td>\n",
       "      <td>6.5570e+06</td>\n",
       "      <td>184.00</td>\n",
       "      <td>18-Dec-15</td>\n",
       "    </tr>\n",
       "    <tr>\n",
       "      <th>6</th>\n",
       "      <td>3 Idiots</td>\n",
       "      <td>Rajkumar Hirani</td>\n",
       "      <td>Aamir Khan,Madhavan,Mona Singh</td>\n",
       "      <td>8.4</td>\n",
       "      <td>6.5231e+06</td>\n",
       "      <td>NaN</td>\n",
       "      <td>25-Dec-09</td>\n",
       "    </tr>\n",
       "    <tr>\n",
       "      <th>7</th>\n",
       "      <td>Chennai Express</td>\n",
       "      <td>Rohit Shetty</td>\n",
       "      <td>Deepika Padukone,Shah Rukh Khan,Sathyaraj</td>\n",
       "      <td>6.0</td>\n",
       "      <td>5.3067e+06</td>\n",
       "      <td>226.70</td>\n",
       "      <td>8-Aug-13</td>\n",
       "    </tr>\n",
       "  </tbody>\n",
       "</table>\n",
       "</div>"
      ],
      "text/plain": [
       "               Title               Director  \\\n",
       "0    Monsoon Wedding              Mira Nair   \n",
       "1             Dangal          Nitesh Tiwari   \n",
       "2                 PK        Rajkumar Hirani   \n",
       "3            Dhoom 3  Vijay Krishna Acharya   \n",
       "4  Bajrangi Bhaijaan             Kabir Khan   \n",
       "5    Bajirao Mastani  Sanjay Leela Bhansali   \n",
       "6           3 Idiots        Rajkumar Hirani   \n",
       "7    Chennai Express           Rohit Shetty   \n",
       "\n",
       "                                               Stars  Rating       Gross  \\\n",
       "0      Naseeruddin Shah,Lillete Dubey,Shefali Shetty     7.4  1.3877e+07   \n",
       "1        Aamir Khan,Sakshi Tanwar,Fatima Sana Shaikh     8.7  1.1152e+07   \n",
       "2              Aamir Khan,Anushka Sharma,Sanjay Dutt     8.2  1.0573e+07   \n",
       "3          Aamir Khan,Katrina Kaif,Abhishek Bachchan     5.4  8.0320e+06   \n",
       "4  Salman Khan,Kareena Kapoor Khan,Nawazuddin Sid...     8.1  7.6555e+06   \n",
       "5     Ranveer Singh,Priyanka Chopra,Deepika Padukone     7.2  6.5570e+06   \n",
       "6                     Aamir Khan,Madhavan,Mona Singh     8.4  6.5231e+06   \n",
       "7          Deepika Padukone,Shah Rukh Khan,Sathyaraj     6.0  5.3067e+06   \n",
       "\n",
       "   Gross (India)        Release  \n",
       "0            NaN  26 April 2002  \n",
       "1         387.39      21-Dec-16  \n",
       "2         339.50      19-Dec-14  \n",
       "3         280.25      20-Dec-13  \n",
       "4         320.34      17-Jul-15  \n",
       "5         184.00      18-Dec-15  \n",
       "6            NaN      25-Dec-09  \n",
       "7         226.70       8-Aug-13  "
      ]
     },
     "execution_count": 35,
     "metadata": {},
     "output_type": "execute_result"
    }
   ],
   "source": [
    "print(\"Movies which have a US box office gross above $5 million:\")\n",
    "high_gross_in_us = movies_with_gross[movies_with_gross['Gross'] > 5.0e+06].sort_values('Gross', ascending=False)\n",
    "high_gross_in_us.reset_index(inplace=True)\n",
    "high_gross_in_us[['Title', 'Director', 'Stars', 'Rating', 'Gross', 'Gross (India)', 'Release']]"
   ]
  },
  {
   "cell_type": "code",
   "execution_count": 37,
   "metadata": {},
   "outputs": [
    {
     "data": {
      "text/plain": [
       "count    380.0000\n",
       "mean      43.6516\n",
       "std       55.0319\n",
       "min        0.4000\n",
       "25%        7.5000\n",
       "50%       26.5350\n",
       "75%       58.5400\n",
       "max      387.3900\n",
       "Name: Gross (India), dtype: float64"
      ]
     },
     "execution_count": 37,
     "metadata": {},
     "output_type": "execute_result"
    }
   ],
   "source": [
    "# Create a dataframe of movies for which Indian Gross figure is present \n",
    "movies_with_gross_india = data[data['Gross (India)'].isnull() == False]\n",
    "\n",
    "# Display the summary statistics for Indian Gross\n",
    "movies_with_gross_india['Gross (India)'].describe()"
   ]
  },
  {
   "cell_type": "code",
   "execution_count": 38,
   "metadata": {},
   "outputs": [
    {
     "data": {
      "image/png": "[encoded data removed]",
      "text/plain": [
       "<matplotlib.figure.Figure at 0x15761a65160>"
      ]
     },
     "metadata": {},
     "output_type": "display_data"
    }
   ],
   "source": [
    "# Plot a histogram of Indian gross\n",
    "plt.hist(movies_with_gross_india['Gross (India)'].sort_values(), bins=76)\n",
    "plt.title(\"Indian Box Office Gross\")\n",
    "plt.xlabel(\"Box Office Gross in 1e7 INR\")\n",
    "plt.ylabel(\"Number of Movies\")\n",
    "plt.show()"
   ]
  },
  {
   "cell_type": "code",
   "execution_count": 39,
   "metadata": {},
   "outputs": [
    {
     "data": {
      "image/png": "[encoded data removed]",
      "text/plain": [
       "<matplotlib.figure.Figure at 0x15761929ac8>"
      ]
     },
     "metadata": {},
     "output_type": "display_data"
    }
   ],
   "source": [
    "# Create a boxplot to show the range of Indian Gross\n",
    "plt.boxplot(movies_with_gross_india['Gross (India)'], vert=False)\n",
    "plt.title('Boxplot of Box Office Gross (India)')\n",
    "plt.xlabel('Gross in 1e7 INR')\n",
    "plt.show()"
   ]
  },
  {
   "cell_type": "code",
   "execution_count": 40,
   "metadata": {},
   "outputs": [
    {
     "data": {
      "text/html": [
       "<div>\n",
       "<style>\n",
       "    .dataframe thead tr:only-child th {\n",
       "        text-align: right;\n",
       "    }\n",
       "\n",
       "    .dataframe thead th {\n",
       "        text-align: left;\n",
       "    }\n",
       "\n",
       "    .dataframe tbody tr th {\n",
       "        vertical-align: top;\n",
       "    }\n",
       "</style>\n",
       "<table border=\"1\" class=\"dataframe\">\n",
       "  <thead>\n",
       "    <tr style=\"text-align: right;\">\n",
       "      <th></th>\n",
       "      <th>Rating</th>\n",
       "      <th>Votes</th>\n",
       "      <th>Gross</th>\n",
       "      <th>Gross (India)</th>\n",
       "    </tr>\n",
       "  </thead>\n",
       "  <tbody>\n",
       "    <tr>\n",
       "      <th>count</th>\n",
       "      <td>117.0000</td>\n",
       "      <td>117.0000</td>\n",
       "      <td>1.1700e+02</td>\n",
       "      <td>117.0000</td>\n",
       "    </tr>\n",
       "    <tr>\n",
       "      <th>mean</th>\n",
       "      <td>6.1803</td>\n",
       "      <td>14739.0684</td>\n",
       "      <td>1.3602e+06</td>\n",
       "      <td>81.6160</td>\n",
       "    </tr>\n",
       "    <tr>\n",
       "      <th>std</th>\n",
       "      <td>1.3186</td>\n",
       "      <td>15969.2880</td>\n",
       "      <td>1.9454e+06</td>\n",
       "      <td>73.4668</td>\n",
       "    </tr>\n",
       "    <tr>\n",
       "      <th>min</th>\n",
       "      <td>2.3000</td>\n",
       "      <td>324.0000</td>\n",
       "      <td>6.1080e+03</td>\n",
       "      <td>6.0000</td>\n",
       "    </tr>\n",
       "    <tr>\n",
       "      <th>25%</th>\n",
       "      <td>5.4000</td>\n",
       "      <td>4179.0000</td>\n",
       "      <td>3.3698e+05</td>\n",
       "      <td>30.9000</td>\n",
       "    </tr>\n",
       "    <tr>\n",
       "      <th>50%</th>\n",
       "      <td>6.1000</td>\n",
       "      <td>8526.0000</td>\n",
       "      <td>5.8603e+05</td>\n",
       "      <td>58.0000</td>\n",
       "    </tr>\n",
       "    <tr>\n",
       "      <th>75%</th>\n",
       "      <td>7.2000</td>\n",
       "      <td>19699.0000</td>\n",
       "      <td>1.5352e+06</td>\n",
       "      <td>105.5000</td>\n",
       "    </tr>\n",
       "    <tr>\n",
       "      <th>max</th>\n",
       "      <td>8.7000</td>\n",
       "      <td>106800.0000</td>\n",
       "      <td>1.1152e+07</td>\n",
       "      <td>387.3900</td>\n",
       "    </tr>\n",
       "  </tbody>\n",
       "</table>\n",
       "</div>"
      ],
      "text/plain": [
       "         Rating        Votes       Gross  Gross (India)\n",
       "count  117.0000     117.0000  1.1700e+02       117.0000\n",
       "mean     6.1803   14739.0684  1.3602e+06        81.6160\n",
       "std      1.3186   15969.2880  1.9454e+06        73.4668\n",
       "min      2.3000     324.0000  6.1080e+03         6.0000\n",
       "25%      5.4000    4179.0000  3.3698e+05        30.9000\n",
       "50%      6.1000    8526.0000  5.8603e+05        58.0000\n",
       "75%      7.2000   19699.0000  1.5352e+06       105.5000\n",
       "max      8.7000  106800.0000  1.1152e+07       387.3900"
      ]
     },
     "execution_count": 40,
     "metadata": {},
     "output_type": "execute_result"
    }
   ],
   "source": [
    "# Find out the outliers in the dataset \n",
    "q1 = movies_with_gross_india['Gross (India)'].quantile(0.25)\n",
    "q3 = movies_with_gross_india['Gross (India)'].quantile(0.75)\n",
    "iqr = q3 - q1\n",
    "outliers = movies_with_gross_india.query('Gross > (@q3 + 1.5 * @iqr)')\n",
    "\n",
    "outliers.describe()"
   ]
  },
  {
   "cell_type": "code",
   "execution_count": 41,
   "metadata": {},
   "outputs": [
    {
     "name": "stdout",
     "output_type": "stream",
     "text": [
      "Median gross of outliers = 58.0\n",
      "Percentage of outliers = 30.789473684210527\n"
     ]
    }
   ],
   "source": [
    "print(\"Median gross of outliers = {}\".format(outliers['Gross (India)'].median()))\n",
    "print(\"Percentage of outliers = {}\".format(outliers['Title'].count()/movies_with_gross_india['Title'].count() * 100))"
   ]
  },
  {
   "cell_type": "code",
   "execution_count": 43,
   "metadata": {},
   "outputs": [
    {
     "name": "stdout",
     "output_type": "stream",
     "text": [
      "Movies which have a Indian box office gross above INR 100cr:\n"
     ]
    },
    {
     "data": {
      "text/html": [
       "<div>\n",
       "<style>\n",
       "    .dataframe thead tr:only-child th {\n",
       "        text-align: right;\n",
       "    }\n",
       "\n",
       "    .dataframe thead th {\n",
       "        text-align: left;\n",
       "    }\n",
       "\n",
       "    .dataframe tbody tr th {\n",
       "        vertical-align: top;\n",
       "    }\n",
       "</style>\n",
       "<table border=\"1\" class=\"dataframe\">\n",
       "  <thead>\n",
       "    <tr style=\"text-align: right;\">\n",
       "      <th></th>\n",
       "      <th>Title</th>\n",
       "      <th>Director</th>\n",
       "      <th>Stars</th>\n",
       "      <th>Rating</th>\n",
       "      <th>Gross</th>\n",
       "      <th>Gross (India)</th>\n",
       "      <th>Release</th>\n",
       "    </tr>\n",
       "  </thead>\n",
       "  <tbody>\n",
       "    <tr>\n",
       "      <th>0</th>\n",
       "      <td>Dangal</td>\n",
       "      <td>Nitesh Tiwari</td>\n",
       "      <td>Aamir Khan,Sakshi Tanwar,Fatima Sana Shaikh</td>\n",
       "      <td>8.7</td>\n",
       "      <td>1.1152e+07</td>\n",
       "      <td>387.39</td>\n",
       "      <td>21-Dec-16</td>\n",
       "    </tr>\n",
       "    <tr>\n",
       "      <th>1</th>\n",
       "      <td>PK</td>\n",
       "      <td>Rajkumar Hirani</td>\n",
       "      <td>Aamir Khan,Anushka Sharma,Sanjay Dutt</td>\n",
       "      <td>8.2</td>\n",
       "      <td>1.0573e+07</td>\n",
       "      <td>339.50</td>\n",
       "      <td>19-Dec-14</td>\n",
       "    </tr>\n",
       "    <tr>\n",
       "      <th>2</th>\n",
       "      <td>Bajrangi Bhaijaan</td>\n",
       "      <td>Kabir Khan</td>\n",
       "      <td>Salman Khan,Kareena Kapoor Khan,Nawazuddin Sid...</td>\n",
       "      <td>8.1</td>\n",
       "      <td>7.6555e+06</td>\n",
       "      <td>320.34</td>\n",
       "      <td>17-Jul-15</td>\n",
       "    </tr>\n",
       "    <tr>\n",
       "      <th>3</th>\n",
       "      <td>Sultan</td>\n",
       "      <td>Ali Abbas Zafar</td>\n",
       "      <td>Salman Khan,Anushka Sharma,Marko Zaror</td>\n",
       "      <td>7.2</td>\n",
       "      <td>6.1730e+03</td>\n",
       "      <td>300.45</td>\n",
       "      <td>6-Jul-16</td>\n",
       "    </tr>\n",
       "    <tr>\n",
       "      <th>4</th>\n",
       "      <td>Dhoom 3</td>\n",
       "      <td>Vijay Krishna Acharya</td>\n",
       "      <td>Aamir Khan,Katrina Kaif,Abhishek Bachchan</td>\n",
       "      <td>5.4</td>\n",
       "      <td>8.0320e+06</td>\n",
       "      <td>280.25</td>\n",
       "      <td>20-Dec-13</td>\n",
       "    </tr>\n",
       "    <tr>\n",
       "      <th>5</th>\n",
       "      <td>Krrish 3</td>\n",
       "      <td>Rakesh Roshan</td>\n",
       "      <td>Priyanka Chopra,Hrithik Roshan,Amitabh Bachchan</td>\n",
       "      <td>5.3</td>\n",
       "      <td>2.1913e+06</td>\n",
       "      <td>240.50</td>\n",
       "      <td>1-Nov-13</td>\n",
       "    </tr>\n",
       "    <tr>\n",
       "      <th>6</th>\n",
       "      <td>Kick</td>\n",
       "      <td>Sajid Nadiadwala</td>\n",
       "      <td>Salman Khan,Jacqueline Fernandez,Nawazuddin Si...</td>\n",
       "      <td>5.5</td>\n",
       "      <td>2.4610e+06</td>\n",
       "      <td>233.00</td>\n",
       "      <td>25-Jul-14</td>\n",
       "    </tr>\n",
       "    <tr>\n",
       "      <th>7</th>\n",
       "      <td>Chennai Express</td>\n",
       "      <td>Rohit Shetty</td>\n",
       "      <td>Deepika Padukone,Shah Rukh Khan,Sathyaraj</td>\n",
       "      <td>6.0</td>\n",
       "      <td>5.3067e+06</td>\n",
       "      <td>226.70</td>\n",
       "      <td>8-Aug-13</td>\n",
       "    </tr>\n",
       "    <tr>\n",
       "      <th>8</th>\n",
       "      <td>Prem Ratan Dhan Payo</td>\n",
       "      <td>Sooraj R. Barjatya</td>\n",
       "      <td>Salman Khan,Sonam Kapoor,Neil Nitin Mukesh</td>\n",
       "      <td>4.7</td>\n",
       "      <td>4.3288e+06</td>\n",
       "      <td>207.40</td>\n",
       "      <td>12-Nov-15</td>\n",
       "    </tr>\n",
       "    <tr>\n",
       "      <th>9</th>\n",
       "      <td>Happy New Year</td>\n",
       "      <td>Farah Khan</td>\n",
       "      <td>Shah Rukh Khan,Deepika Padukone,Abhishek Bachchan</td>\n",
       "      <td>5.2</td>\n",
       "      <td>NaN</td>\n",
       "      <td>205.00</td>\n",
       "      <td>24-Oct-14</td>\n",
       "    </tr>\n",
       "  </tbody>\n",
       "</table>\n",
       "</div>"
      ],
      "text/plain": [
       "                  Title               Director  \\\n",
       "0                Dangal          Nitesh Tiwari   \n",
       "1                    PK        Rajkumar Hirani   \n",
       "2     Bajrangi Bhaijaan             Kabir Khan   \n",
       "3                Sultan        Ali Abbas Zafar   \n",
       "4               Dhoom 3  Vijay Krishna Acharya   \n",
       "5              Krrish 3          Rakesh Roshan   \n",
       "6                  Kick       Sajid Nadiadwala   \n",
       "7       Chennai Express           Rohit Shetty   \n",
       "8  Prem Ratan Dhan Payo     Sooraj R. Barjatya   \n",
       "9        Happy New Year             Farah Khan   \n",
       "\n",
       "                                               Stars  Rating       Gross  \\\n",
       "0        Aamir Khan,Sakshi Tanwar,Fatima Sana Shaikh     8.7  1.1152e+07   \n",
       "1              Aamir Khan,Anushka Sharma,Sanjay Dutt     8.2  1.0573e+07   \n",
       "2  Salman Khan,Kareena Kapoor Khan,Nawazuddin Sid...     8.1  7.6555e+06   \n",
       "3             Salman Khan,Anushka Sharma,Marko Zaror     7.2  6.1730e+03   \n",
       "4          Aamir Khan,Katrina Kaif,Abhishek Bachchan     5.4  8.0320e+06   \n",
       "5    Priyanka Chopra,Hrithik Roshan,Amitabh Bachchan     5.3  2.1913e+06   \n",
       "6  Salman Khan,Jacqueline Fernandez,Nawazuddin Si...     5.5  2.4610e+06   \n",
       "7          Deepika Padukone,Shah Rukh Khan,Sathyaraj     6.0  5.3067e+06   \n",
       "8         Salman Khan,Sonam Kapoor,Neil Nitin Mukesh     4.7  4.3288e+06   \n",
       "9  Shah Rukh Khan,Deepika Padukone,Abhishek Bachchan     5.2         NaN   \n",
       "\n",
       "   Gross (India)    Release  \n",
       "0         387.39  21-Dec-16  \n",
       "1         339.50  19-Dec-14  \n",
       "2         320.34  17-Jul-15  \n",
       "3         300.45   6-Jul-16  \n",
       "4         280.25  20-Dec-13  \n",
       "5         240.50   1-Nov-13  \n",
       "6         233.00  25-Jul-14  \n",
       "7         226.70   8-Aug-13  \n",
       "8         207.40  12-Nov-15  \n",
       "9         205.00  24-Oct-14  "
      ]
     },
     "execution_count": 43,
     "metadata": {},
     "output_type": "execute_result"
    }
   ],
   "source": [
    "print(\"Movies which have a Indian box office gross above INR 100cr:\")\n",
    "high_gross_in_india = movies_with_gross_india[movies_with_gross_india['Gross (India)'] > 100]\n",
    "high_gross_in_india.sort_values('Gross (India)', ascending=False).reset_index(inplace=True)\n",
    "high_gross_in_india[['Title', 'Director', 'Stars', 'Rating', 'Gross', 'Gross (India)', 'Release']] [:10]"
   ]
  },
  {
   "cell_type": "markdown",
   "metadata": {},
   "source": [
    "### Most popular genre\n",
    "The Genre column contains list of genres. In order to find the most popular single genre, the values in the genre column are seperated."
   ]
  },
  {
   "cell_type": "code",
   "execution_count": 45,
   "metadata": {},
   "outputs": [
    {
     "name": "stdout",
     "output_type": "stream",
     "text": [
      "Number of unique genres: 21\n",
      "Unique Genres: {'Adventure', 'Biography', 'Musical', 'Drama', 'Fantasy', 'Mystery', 'Thriller', 'Comedy', 'War', 'Horror', 'News', 'Crime', 'Western', 'Romance', 'Sci-Fi', 'Family', 'History', 'Sport', 'Music', 'Animation', 'Action'}\n"
     ]
    }
   ],
   "source": [
    "# Create a dataframe of moves for which a genre is present\n",
    "movies_with_genre = data[data['Genre'].isnull() == False]\n",
    "\n",
    "# Collect the unique genres into a set\n",
    "unique_genres = set()\n",
    "for genre in movies_with_genre['Genre'].str.split(\",\"):\n",
    "    for g in genre:\n",
    "        unique_genres.add(g)\n",
    "\n",
    "# Display the results\n",
    "print(\"Number of unique genres: {}\".format(len(unique_genres)))\n",
    "print(\"Unique Genres: {}\".format(unique_genres))"
   ]
  },
  {
   "cell_type": "code",
   "execution_count": 46,
   "metadata": {
    "collapsed": true
   },
   "outputs": [],
   "source": [
    "# Group movies by their genres\n",
    "movies_by_genre = dict()\n",
    "genre_masks = dict()\n",
    "\n",
    "# Creating a dictionary of masks\n",
    "for genre in unique_genres:\n",
    "    genre_masks[genre] = movies_with_genre['Genre'].apply(lambda x: genre in x )\n",
    "\n",
    "# Creating a dictionary of movies with particular genre\n",
    "for genre in unique_genres:\n",
    "    movies_by_genre[genre] = movies_with_genre[genre_masks[genre]]\n",
    "    "
   ]
  },
  {
   "cell_type": "code",
   "execution_count": 100,
   "metadata": {},
   "outputs": [
    {
     "name": "stdout",
     "output_type": "stream",
     "text": [
      "Number of movies in each genre\n",
      "Drama        3400\n",
      "Romance      1658\n",
      "Action       1538\n",
      "Comedy       1170\n",
      "Thriller     1001\n",
      "Crime         873\n",
      "Family        624\n",
      "Music         563\n",
      "Musical       538\n",
      "Adventure     286\n",
      "Mystery       279\n",
      "Fantasy       167\n",
      "Horror        157\n",
      "History       102\n",
      "Biography      60\n",
      "War            48\n",
      "Sport          44\n",
      "Animation      43\n",
      "Sci-Fi         41\n",
      "Western         6\n",
      "News            2\n",
      "dtype: int64\n"
     ]
    }
   ],
   "source": [
    "# Create a dictionary mapping of genre and number of movies\n",
    "# belonging to that genre\n",
    "count_of_movies_by_genre = dict()\n",
    "\n",
    "for genre in unique_genres:\n",
    "    count_of_movies_by_genre[genre] = movies_by_genre[genre]['Title'].count()\n",
    "\n",
    "count_of_movies_by_genre = pd.Series(count_of_movies_by_genre).sort_values(ascending=False)\n",
    "print(\"Number of movies in each genre\")\n",
    "print(count_of_movies_by_genre)"
   ]
  },
  {
   "cell_type": "code",
   "execution_count": 115,
   "metadata": {},
   "outputs": [
    {
     "data": {
      "image/png": "[encoded data removed]",
      "text/plain": [
       "<matplotlib.figure.Figure at 0x15771925ba8>"
      ]
     },
     "metadata": {},
     "output_type": "display_data"
    }
   ],
   "source": [
    "count_of_movies_by_genre.plot.bar()\n",
    "plt.title('Popularity of genres')\n",
    "plt.ylabel('Number of movies')\n",
    "plt.xlabel('Genre')\n",
    "plt.show()"
   ]
  },
  {
   "cell_type": "code",
   "execution_count": 57,
   "metadata": {},
   "outputs": [
    {
     "name": "stdout",
     "output_type": "stream",
     "text": [
      "Most popular grouped genres:\n",
      "\n",
      "Genre\n",
      "Drama                   600\n",
      "Action                  237\n",
      "Drama,Romance           229\n",
      "Drama,Family            203\n",
      "Romance                 180\n",
      "Comedy                  177\n",
      "Comedy,Drama            162\n",
      "Comedy,Drama,Romance    157\n",
      "Action,Crime,Drama      137\n",
      "Action,Drama            124\n",
      "dtype: int64\n"
     ]
    }
   ],
   "source": [
    "movies_by_grouped_genres = movies_with_genre.groupby('Genre')\n",
    "print(\"Most popular grouped genres:\\n\")\n",
    "print(movies_by_grouped_genres.size().sort_values(ascending=False)[:10])"
   ]
  },
  {
   "cell_type": "markdown",
   "metadata": {},
   "source": [
    "### Number of Unique Stars\n"
   ]
  },
  {
   "cell_type": "code",
   "execution_count": 63,
   "metadata": {},
   "outputs": [
    {
     "data": {
      "text/plain": [
       "5557"
      ]
     },
     "execution_count": 63,
     "metadata": {},
     "output_type": "execute_result"
    }
   ],
   "source": [
    "# Create a dataframe of movies for which stars informatin is present\n",
    "movies_with_stars = data[data['Stars'].isnull() == False]\n",
    "\n",
    "# Number of movies for which stars information is present\n",
    "movies_with_stars.shape[0]"
   ]
  },
  {
   "cell_type": "code",
   "execution_count": 91,
   "metadata": {},
   "outputs": [
    {
     "name": "stdout",
     "output_type": "stream",
     "text": [
      "Number of unique stars: 4042\n"
     ]
    }
   ],
   "source": [
    "# Collect the unique stars into a set\n",
    "unique_stars = set()\n",
    "for stars in movies_with_stars['Stars'].str.split(\",\"):\n",
    "    for star in stars:\n",
    "        unique_stars.add(star)\n",
    "\n",
    "# Display the results\n",
    "print(\"Number of unique stars: {}\".format(len(unique_stars)))"
   ]
  },
  {
   "cell_type": "code",
   "execution_count": 93,
   "metadata": {},
   "outputs": [],
   "source": [
    "# Group movies by stars\n",
    "movies_by_star = dict()\n",
    "\n",
    "# Creating a dictionary of movies accessed by star\n",
    "for star in unique_stars:\n",
    "    movies_by_star[star] = movies_with_stars[movies_with_stars['Stars'].apply(lambda x: star in x )]"
   ]
  },
  {
   "cell_type": "code",
   "execution_count": 107,
   "metadata": {},
   "outputs": [
    {
     "name": "stdout",
     "output_type": "stream",
     "text": [
      "Number of movies by each star\n"
     ]
    },
    {
     "data": {
      "text/plain": [
       "Mithun Chakraborty    182\n",
       "Amit                  182\n",
       "Dharmendra            162\n",
       "Amitabh Bachchan      152\n",
       "Jeetendra             137\n",
       "Ashok Kumar           128\n",
       "Rekha                 125\n",
       "Rajesh Khanna         123\n",
       "Sanjay Dutt           115\n",
       "Akshay Kumar          114\n",
       "Chand                 112\n",
       "Vinod Khanna          102\n",
       "Arun                  101\n",
       "Ajay                   98\n",
       "Shashi Kapoor          97\n",
       "Govinda                95\n",
       "Raj Babbar             94\n",
       "Madhu                  94\n",
       "Rishi Kapoor           93\n",
       "Jackie Shroff          93\n",
       "dtype: int64"
      ]
     },
     "execution_count": 107,
     "metadata": {},
     "output_type": "execute_result"
    }
   ],
   "source": [
    "# Create a dictionary mapping of star and number of movies\n",
    "# that the actor stared in\n",
    "count_of_movies_by_star = dict()\n",
    "\n",
    "for star in unique_stars:\n",
    "    count_of_movies_by_star[star] = movies_by_star[star]['Title'].count()\n",
    "\n",
    "count_of_movies_by_star = pd.Series(count_of_movies_by_star).sort_values(ascending=False)\n",
    "print(\"Number of movies by each star (top 20)\")\n",
    "count_of_movies_by_star[:20]"
   ]
  },
  {
   "cell_type": "code",
   "execution_count": 113,
   "metadata": {},
   "outputs": [
    {
     "data": {
      "image/png": "[encoded data removed]",
      "text/plain": [
       "<matplotlib.figure.Figure at 0x15772a98c88>"
      ]
     },
     "metadata": {},
     "output_type": "display_data"
    }
   ],
   "source": [
    "# Plot of the 20 stars with the highest number of roles\n",
    "count_of_movies_by_star[:20].plot.bar()\n",
    "plt.title('Nmber of starring roles (top 20)')\n",
    "plt.ylabel('Number of roles')\n",
    "plt.xlabel('Star')\n",
    "plt.show()"
   ]
  },
  {
   "cell_type": "code",
   "execution_count": 114,
   "metadata": {},
   "outputs": [
    {
     "data": {
      "image/png": "[encoded data removed]",
      "text/plain": [
       "<matplotlib.figure.Figure at 0x15772a87940>"
      ]
     },
     "metadata": {},
     "output_type": "display_data"
    }
   ],
   "source": [
    "# Create a boxplot to show the range of Indian Gross\n",
    "plt.boxplot(count_of_movies_by_star, vert=False)\n",
    "plt.title('Boxplot of starring roles')\n",
    "plt.xlabel('Number of starring roles')\n",
    "plt.show()"
   ]
  },
  {
   "cell_type": "markdown",
   "metadata": {},
   "source": [
    "### Number of unique directors "
   ]
  },
  {
   "cell_type": "code",
   "execution_count": null,
   "metadata": {
    "collapsed": true
   },
   "outputs": [],
   "source": []
  }
 ],
 "metadata": {
  "kernelspec": {
   "display_name": "Python 3",
   "language": "python",
   "name": "python3"
  },
  "language_info": {
   "codemirror_mode": {
    "name": "ipython",
    "version": 3
   },
   "file_extension": ".py",
   "mimetype": "text/x-python",
   "name": "python",
   "nbconvert_exporter": "python",
   "pygments_lexer": "ipython3",
   "version": "3.6.3"
  }
 },
 "nbformat": 4,
 "nbformat_minor": 2
}
